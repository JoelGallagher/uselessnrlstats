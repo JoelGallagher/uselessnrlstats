{
    "metadata": {
        "kernelspec": {
            "name": "SQL",
            "display_name": "SQL",
            "language": "sql"
        },
        "language_info": {
            "name": "sql",
            "version": ""
        }
    },
    "nbformat_minor": 2,
    "nbformat": 4,
    "cells": [
        {
            "cell_type": "markdown",
            "source": [
                "check count of match data"
            ],
            "metadata": {
                "azdata_cell_guid": "c23197b2-23ef-4b5c-9f2d-d399ab5a88f1"
            },
            "attachments": {}
        },
        {
            "cell_type": "code",
            "source": [
                "select count(*) from dbo.match_data -- 14626"
            ],
            "metadata": {
                "azdata_cell_guid": "27e6a80b-c638-412b-8da7-8706296dd447",
                "language": "sql"
            },
            "outputs": [
{
    "output_type": "display_data",
    "data": {
        "text/html": "(1 row affected)"
    },
    "metadata": {}
}, {
    "output_type": "display_data",
    "data": {
        "text/html": "Total execution time: 00:00:00.256"
    },
    "metadata": {}
}, {
    "output_type": "execute_result",
    "metadata": {},
    "execution_count": 1,
    "data": {
        "application/vnd.dataresource+json": {
            "schema": {
                "fields": [
                    {
                        "name": "(No column name)"
                    }
                ]
            },
            "data": [
                {
                    "(No column name)": "14626"
                }
            ]
        },
        "text/html": [
            "<table>",
            "<tr><th>(No column name)</th></tr>",
            "<tr><td>14626</td></tr>",
            "</table>"
        ]
    }
}
],
            "execution_count": 1
        }
    ]
}